{
 "cells": [
  {
   "cell_type": "code",
   "execution_count": 2,
   "id": "239a50da-530f-4370-9560-d70828f0f981",
   "metadata": {},
   "outputs": [],
   "source": [
    "from pyspark.sql import *\n",
    "from pyspark.sql.functions import *\n",
    "from pyspark.sql import functions as F"
   ]
  },
  {
   "cell_type": "code",
   "execution_count": 3,
   "id": "91fee71b-ee3f-4dc4-a676-8d26dc823484",
   "metadata": {
    "scrolled": true
   },
   "outputs": [
    {
     "name": "stderr",
     "output_type": "stream",
     "text": [
      "24/03/29 15:21:50 WARN Utils: Your hostname, DESKTOP-AK8N2G6 resolves to a loopback address: 127.0.1.1; using 172.29.81.202 instead (on interface eth0)\n",
      "24/03/29 15:21:50 WARN Utils: Set SPARK_LOCAL_IP if you need to bind to another address\n",
      "Setting default log level to \"WARN\".\n",
      "To adjust logging level use sc.setLogLevel(newLevel). For SparkR, use setLogLevel(newLevel).\n",
      "24/03/29 15:21:51 WARN NativeCodeLoader: Unable to load native-hadoop library for your platform... using builtin-java classes where applicable\n",
      "24/03/29 15:21:52 WARN Utils: Service 'SparkUI' could not bind on port 4040. Attempting port 4041.\n"
     ]
    }
   ],
   "source": [
    "spark = SparkSession.builder \\\n",
    "    .appName(\"appName\") \\\n",
    "    .master(\"spark://0.0.0.0:7077\") \\\n",
    "    .getOrCreate()"
   ]
  },
  {
   "cell_type": "code",
   "execution_count": 8,
   "id": "717a5298-0308-480e-a0e5-6bacbd3b4735",
   "metadata": {},
   "outputs": [
    {
     "name": "stdout",
     "output_type": "stream",
     "text": [
      "Topic exists\n"
     ]
    }
   ],
   "source": [
    "from confluent_kafka.admin import (AdminClient, NewTopic, ConfigResource)\n",
    "from config import config\n",
    "import time\n",
    "\n",
    "def topic_exists(admin, topic):\n",
    "    metadata = admin.list_topics()\n",
    "    for t in iter(metadata.topics.values()):\n",
    "        if t.topic == topic:\n",
    "            return True\n",
    "    return False\n",
    "\n",
    "def create_topic(admin, topic):\n",
    "    new_topic = NewTopic(topic)\n",
    "    admin.create_topics([new_topic])\n",
    "\n",
    "topic_name = \"emine\"\n",
    "\n",
    "#config = {'bootstrap.servers': 'localhost:9092,localhost:9292,localhost:9392'}\n",
    "admin = AdminClient(config)\n",
    "\n",
    "if topic_exists(admin=admin, topic=topic_name):\n",
    "    print(\"Topic exists\")\n",
    "else:\n",
    "    print(\"Topic not exist\")\n",
    "    create_topic(admin=admin, topic=topic_name)\n",
    "    print(topic_name, \"topic has been created\")"
   ]
  },
  {
   "cell_type": "code",
   "execution_count": null,
   "id": "29997327-482f-4785-9c90-f3d3a443b293",
   "metadata": {},
   "outputs": [],
   "source": []
  }
 ],
 "metadata": {
  "kernelspec": {
   "display_name": "Python 3 (ipykernel)",
   "language": "python",
   "name": "python3"
  },
  "language_info": {
   "codemirror_mode": {
    "name": "ipython",
    "version": 3
   },
   "file_extension": ".py",
   "mimetype": "text/x-python",
   "name": "python",
   "nbconvert_exporter": "python",
   "pygments_lexer": "ipython3",
   "version": "3.10.12"
  }
 },
 "nbformat": 4,
 "nbformat_minor": 5
}
